{
 "cells": [
  {
   "cell_type": "code",
   "execution_count": 1,
   "id": "25a8a0e6",
   "metadata": {},
   "outputs": [
    {
     "name": "stderr",
     "output_type": "stream",
     "text": [
      "2023-08-14 16:42:14.160597: I tensorflow/core/platform/cpu_feature_guard.cc:193] This TensorFlow binary is optimized with oneAPI Deep Neural Network Library (oneDNN) to use the following CPU instructions in performance-critical operations:  SSE4.1 SSE4.2 AVX AVX2 FMA\n",
      "To enable them in other operations, rebuild TensorFlow with the appropriate compiler flags.\n"
     ]
    }
   ],
   "source": [
    "import tensorflow as tf\n",
    "from tensorflow import keras\n",
    "\n",
    "import numpy as np\n",
    "import matplotlib.pyplot as plt\n",
    "import pandas as pd"
   ]
  },
  {
   "cell_type": "code",
   "execution_count": null,
   "id": "8f63a4ef",
   "metadata": {},
   "outputs": [],
   "source": [
    "model = keras.models.load_model('model/model.keras')"
   ]
  },
  {
   "cell_type": "code",
   "execution_count": 2,
   "id": "a7d80c9d",
   "metadata": {},
   "outputs": [
    {
     "name": "stdout",
     "output_type": "stream",
     "text": [
      "path: kissanime/https___kissanime.ru_Special_CapImg_a2cydTdxbTBvWnFqMnBMY2FMd0lNSzRWTkRlNllSV29TcTJ6MWxIM256Y0NWMlJmcGsvdHlieWc0QjQ5T2pwWDBjVGVZeGJPbWx2RXRkYVJRbUo3ZjhpanprcVQxWVlyZzZIeWNJQ3BRWUE9.jpg\n"
     ]
    }
   ],
   "source": [
    "# kissanime/https___kissanime.ru_Special_CapImg_a2cydTdxbTBvWnFqMnBMY2FMd0lNSzRWTkRlNllSV29TcTJ6MWxIM256Y0NWMlJmcGsvdHlieWc0QjQ5T2pwWDBjVGVZeGJPbWx2RXRkYVJRbUo3ZjhpanprcVQxWVlyZzZIeWNJQ3BRWUE9.jpg\n",
    "img_path = input('path: ')"
   ]
  },
  {
   "cell_type": "code",
   "execution_count": 10,
   "id": "2958311b",
   "metadata": {},
   "outputs": [],
   "source": [
    "img = keras.utils.load_img(img_path)\n",
    "img = np.array(img)\n",
    "img = np.array([img])"
   ]
  },
  {
   "cell_type": "code",
   "execution_count": 11,
   "id": "9df5cba2",
   "metadata": {},
   "outputs": [
    {
     "name": "stdout",
     "output_type": "stream",
     "text": [
      "1/1 [==============================] - 0s 179ms/step\n"
     ]
    }
   ],
   "source": [
    "prediction = model.predict(img)"
   ]
  },
  {
   "cell_type": "code",
   "execution_count": 12,
   "id": "dbf60e6c",
   "metadata": {},
   "outputs": [
    {
     "name": "stdout",
     "output_type": "stream",
     "text": [
      "5\n"
     ]
    }
   ],
   "source": [
    "print(np.argmax(prediction))"
   ]
  }
 ],
 "metadata": {
  "kernelspec": {
   "display_name": "Python 3 (ipykernel)",
   "language": "python",
   "name": "python3"
  },
  "language_info": {
   "codemirror_mode": {
    "name": "ipython",
    "version": 3
   },
   "file_extension": ".py",
   "mimetype": "text/x-python",
   "name": "python",
   "nbconvert_exporter": "python",
   "pygments_lexer": "ipython3",
   "version": "3.10.12"
  }
 },
 "nbformat": 4,
 "nbformat_minor": 5
}
